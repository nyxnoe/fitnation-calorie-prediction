{
 "cells": [
  {
   "cell_type": "code",
   "execution_count": 1,
   "id": "8309893d",
   "metadata": {},
   "outputs": [],
   "source": [
    "import pandas as pd\n",
    "from sklearn.pipeline import Pipeline\n",
    "from sklearn.preprocessing import OneHotEncoder, StandardScaler\n",
    "from sklearn.compose import ColumnTransformer\n",
    "from sklearn.linear_model import LinearRegression\n",
    "import pickle"
   ]
  },
  {
   "cell_type": "code",
   "execution_count": 2,
   "id": "2acdd09d",
   "metadata": {},
   "outputs": [],
   "source": [
    "# Dummy data\n",
    "X = pd.DataFrame({\n",
    "    \"Gender\": [\"male\", \"female\"],\n",
    "    \"Age\": [25, 30],\n",
    "    \"Height\": [175, 160],\n",
    "    \"Weight\": [70, 55],\n",
    "    \"Duration\": [30, 45],\n",
    "    \"Heart_Rate\": [120, 130],\n",
    "    \"Body_Temp\": [37.0, 38.0]\n",
    "})\n",
    "y = [200, 220]  # Calories burnt\n",
    "\n",
    "# Preprocessing and pipeline\n",
    "preprocessor = ColumnTransformer([\n",
    "    (\"gender\", OneHotEncoder(handle_unknown='ignore'), [0]),\n",
    "    (\"num\", StandardScaler(), [1, 2, 3, 4, 5, 6])\n",
    "])\n",
    "\n",
    "pipeline = Pipeline([\n",
    "    (\"preprocessor\", preprocessor),\n",
    "    (\"regressor\", LinearRegression())\n",
    "])\n",
    "\n",
    "# Fit and save model\n",
    "pipeline.fit(X.values, y)\n",
    "\n",
    "with open(\"pipeline.pkl\", \"wb\") as f:\n",
    "    pickle.dump(pipeline, f)\n"
   ]
  }
 ],
 "metadata": {
  "kernelspec": {
   "display_name": "Python 3",
   "language": "python",
   "name": "python3"
  },
  "language_info": {
   "codemirror_mode": {
    "name": "ipython",
    "version": 3
   },
   "file_extension": ".py",
   "mimetype": "text/x-python",
   "name": "python",
   "nbconvert_exporter": "python",
   "pygments_lexer": "ipython3",
   "version": "3.11.9"
  }
 },
 "nbformat": 4,
 "nbformat_minor": 5
}
